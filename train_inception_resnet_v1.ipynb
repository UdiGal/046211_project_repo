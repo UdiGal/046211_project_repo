{
 "cells": [
  {
   "cell_type": "markdown",
   "metadata": {
    "id": "ARgGA29vxq8d"
   },
   "source": [
    "# Training InceptionResnetV1 as Encoder"
   ]
  },
  {
   "cell_type": "code",
   "source": [
    "!nvidia-smi -L"
   ],
   "metadata": {
    "colab": {
     "base_uri": "https://localhost:8080/"
    },
    "id": "0Hvx1iCW0y5J",
    "executionInfo": {
     "status": "ok",
     "timestamp": 1643310131119,
     "user_tz": -120,
     "elapsed": 343,
     "user": {
      "displayName": "Moshe Technion",
      "photoUrl": "https://lh3.googleusercontent.com/a/default-user=s64",
      "userId": "13993720330176903710"
     }
    },
    "outputId": "f0b4a450-0a23-40b7-db11-1e7565f0c279"
   },
   "execution_count": 1,
   "outputs": [
    {
     "output_type": "stream",
     "name": "stdout",
     "text": [
      "GPU 0: Tesla T4 (UUID: GPU-bef05a4b-cb97-16b4-782b-e4e660fabff0)\n"
     ]
    }
   ]
  },
  {
   "cell_type": "markdown",
   "source": [
    "#### Mount the Drive and navigate to the project directory\n",
    "Only relevent if you are running in colab."
   ],
   "metadata": {
    "id": "lWEQz1zKzaYn"
   }
  },
  {
   "cell_type": "code",
   "source": [
    "from google.colab import drive\n",
    "drive.mount('/content/drive')"
   ],
   "metadata": {
    "colab": {
     "base_uri": "https://localhost:8080/"
    },
    "id": "muLHhwL6zSiO",
    "executionInfo": {
     "status": "ok",
     "timestamp": 1643310153191,
     "user_tz": -120,
     "elapsed": 16071,
     "user": {
      "displayName": "Moshe Technion",
      "photoUrl": "https://lh3.googleusercontent.com/a/default-user=s64",
      "userId": "13993720330176903710"
     }
    },
    "outputId": "46762b7b-b051-457a-9153-200e360d3d5b"
   },
   "execution_count": 2,
   "outputs": [
    {
     "output_type": "stream",
     "name": "stdout",
     "text": [
      "Mounted at /content/drive\n"
     ]
    }
   ]
  },
  {
   "cell_type": "code",
   "source": [
    "cd \"/content/drive/MyDrive/MastersDegree/Semester3/046211_project/046211_project_repo\""
   ],
   "metadata": {
    "colab": {
     "base_uri": "https://localhost:8080/"
    },
    "id": "Ha-UWZNqz5Ov",
    "executionInfo": {
     "status": "ok",
     "timestamp": 1643310156099,
     "user_tz": -120,
     "elapsed": 968,
     "user": {
      "displayName": "Moshe Technion",
      "photoUrl": "https://lh3.googleusercontent.com/a/default-user=s64",
      "userId": "13993720330176903710"
     }
    },
    "outputId": "d5f9a69d-2674-47ef-84d0-51ac4c1db250"
   },
   "execution_count": 3,
   "outputs": [
    {
     "output_type": "stream",
     "name": "stdout",
     "text": [
      "/content/drive/.shortcut-targets-by-id/16Sgobjo7iyQGdDH7yO6fW1KrvK_Ol-8K/046211_project/046211_project_repo\n"
     ]
    }
   ]
  },
  {
   "cell_type": "markdown",
   "source": [
    "#### Add all the imports"
   ],
   "metadata": {
    "id": "CBw5Hy7nzd7q"
   }
  },
  {
   "cell_type": "code",
   "execution_count": 4,
   "metadata": {
    "id": "f3g3Kol5xq8j",
    "executionInfo": {
     "status": "ok",
     "timestamp": 1643310169436,
     "user_tz": -120,
     "elapsed": 8409,
     "user": {
      "displayName": "Moshe Technion",
      "photoUrl": "https://lh3.googleusercontent.com/a/default-user=s64",
      "userId": "13993720330176903710"
     }
    }
   },
   "outputs": [],
   "source": [
    "import os\n",
    "import time\n",
    "\n",
    "import numpy as np\n",
    "import torch\n",
    "from torch import optim\n",
    "from torch.optim.lr_scheduler import MultiStepLR\n",
    "from torch.utils.data import Dataset, DataLoader, SubsetRandomSampler\n",
    "from torch.utils.tensorboard import SummaryWriter\n",
    "from torchvision import transforms\n",
    "\n",
    "import dnnlib\n",
    "import legacy\n",
    "from facenet_encoder import training\n",
    "from facenet_encoder.inception_resnet_v1 import InceptionResnetV1\n",
    "from facenet_encoder.utils import fixed_image_standardization, one_hot_vector"
   ]
  },
  {
   "cell_type": "markdown",
   "source": [
    "#### Import a Generator to use in the training"
   ],
   "metadata": {
    "id": "YY-Xc61n1s-b"
   }
  },
  {
   "cell_type": "code",
   "source": [
    "def import_generator(generator_pkl):\n",
    "    \"\"\"\n",
    "    Create a dataset of generated images and their corresponding latent vectors using a trained generator.\n",
    "    Args:\n",
    "        generator_pkl:  Path to the pkl file from which to load the generator.\n",
    "\n",
    "    Returns: Instance of teh generator loaded from the pkl file.\n",
    "    \"\"\"\n",
    "    g_kwargs = dnnlib.EasyDict()\n",
    "    g_kwargs.size = None\n",
    "    g_kwargs.scale_type = 'pad'\n",
    "    with dnnlib.util.open_url(generator_pkl) as f:\n",
    "        generator = legacy.load_network_pkl(f, custom=True, **g_kwargs)['G_ema']\n",
    "    return generator\n"
   ],
   "metadata": {
    "id": "W7gbCuzZ1yVQ",
    "executionInfo": {
     "status": "ok",
     "timestamp": 1643310171260,
     "user_tz": -120,
     "elapsed": 327,
     "user": {
      "displayName": "Moshe Technion",
      "photoUrl": "https://lh3.googleusercontent.com/a/default-user=s64",
      "userId": "13993720330176903710"
     }
    }
   },
   "execution_count": 5,
   "outputs": []
  },
  {
   "cell_type": "markdown",
   "source": [
    "#### Define a Dataset for creating examples using a generator"
   ],
   "metadata": {
    "id": "PseOKWrf0hJh"
   }
  },
  {
   "cell_type": "code",
   "source": [
    "class GenerativeDataset(Dataset):\n",
    "    def __init__(self, generator, transform, length):\n",
    "        self.generator = generator\n",
    "        self.transform = transform\n",
    "        self.length = length\n",
    "        self.z_size = generator.z_dim\n",
    "        self.n_classes = generator.c_dim\n",
    "\n",
    "    def __len__(self):\n",
    "        return self.length\n",
    "\n",
    "    def __getitem__(self, item):\n",
    "        self.generator.eval()\n",
    "        with torch.no_grad():\n",
    "            random_z = torch.randn([1, self.z_size])\n",
    "            class_idx = np.random.randint(0, self.n_classes)\n",
    "            class_vector = one_hot_vector(self.n_classes, class_idx)\n",
    "            gen_img = self.generator(random_z, class_vector).squeeze()\n",
    "            gen_img = self.transform(gen_img)\n",
    "        return gen_img.cpu().numpy(), random_z.squeeze().cpu().numpy()"
   ],
   "metadata": {
    "id": "Y3mAP-OT0t9J",
    "executionInfo": {
     "status": "ok",
     "timestamp": 1643310172865,
     "user_tz": -120,
     "elapsed": 297,
     "user": {
      "displayName": "Moshe Technion",
      "photoUrl": "https://lh3.googleusercontent.com/a/default-user=s64",
      "userId": "13993720330176903710"
     }
    }
   },
   "execution_count": 6,
   "outputs": []
  },
  {
   "cell_type": "markdown",
   "source": [
    "#### Perform the Training\n",
    "\n",
    "Determine if an nvidia GPU is available"
   ],
   "metadata": {
    "id": "c1zuwaGz22H_"
   }
  },
  {
   "cell_type": "code",
   "execution_count": 7,
   "metadata": {
    "colab": {
     "base_uri": "https://localhost:8080/"
    },
    "id": "ZL2DOHq0xq8l",
    "executionInfo": {
     "status": "ok",
     "timestamp": 1643310178473,
     "user_tz": -120,
     "elapsed": 302,
     "user": {
      "displayName": "Moshe Technion",
      "photoUrl": "https://lh3.googleusercontent.com/a/default-user=s64",
      "userId": "13993720330176903710"
     }
    },
    "outputId": "15388921-f0f2-43d6-a7b1-b43c4f37157d"
   },
   "outputs": [
    {
     "output_type": "stream",
     "name": "stdout",
     "text": [
      "Running on device: cuda:0\n"
     ]
    }
   ],
   "source": [
    "device = torch.device('cuda:0' if torch.cuda.is_available() else 'cpu')\n",
    "print('Running on device: {}'.format(device))"
   ]
  },
  {
   "cell_type": "markdown",
   "metadata": {
    "id": "D9o7inmXxq8k"
   },
   "source": [
    "Define run parameters. Modify `generator_pkl` to the location of the pkl file of the generator you wish to use when training."
   ]
  },
  {
   "cell_type": "code",
   "execution_count": 11,
   "metadata": {
    "id": "jUYUXuNixq8l",
    "executionInfo": {
     "status": "ok",
     "timestamp": 1643310228899,
     "user_tz": -120,
     "elapsed": 268,
     "user": {
      "displayName": "Moshe Technion",
      "photoUrl": "https://lh3.googleusercontent.com/a/default-user=s64",
      "userId": "13993720330176903710"
     }
    }
   },
   "outputs": [],
   "source": [
    "generator_pkl = '../out/training-runs/network-snapshot-000900.pkl'\n",
    "\n",
    "batch_size = 32\n",
    "epochs = 8\n",
    "workers = 0 if os.name == 'nt' else 2\n",
    "dataset_len = 10_000"
   ]
  },
  {
   "cell_type": "markdown",
   "source": [
    "Load the generator"
   ],
   "metadata": {
    "id": "1nWfaO-r299U"
   }
  },
  {
   "cell_type": "code",
   "source": [
    "generator = import_generator(generator_pkl)\n",
    "print('Loaded generator model from {}'.format(generator_pkl))"
   ],
   "metadata": {
    "colab": {
     "base_uri": "https://localhost:8080/"
    },
    "id": "WyKBXS883COD",
    "executionInfo": {
     "status": "ok",
     "timestamp": 1643310201223,
     "user_tz": -120,
     "elapsed": 7572,
     "user": {
      "displayName": "Moshe Technion",
      "photoUrl": "https://lh3.googleusercontent.com/a/default-user=s64",
      "userId": "13993720330176903710"
     }
    },
    "outputId": "99152b97-b00b-4b90-bb0f-1215a51e1b71"
   },
   "execution_count": 9,
   "outputs": [
    {
     "output_type": "stream",
     "name": "stdout",
     "text": [
      "Loaded generator model from ../out/training-runs/network-snapshot-000900.pkl\n"
     ]
    }
   ]
  },
  {
   "cell_type": "markdown",
   "source": [
    "Create a new GenerativeDataset, then create a Tringing Loader and a Validation Loader."
   ],
   "metadata": {
    "id": "rsx-YPuW3eE7"
   }
  },
  {
   "cell_type": "code",
   "source": [
    "trans = transforms.Compose([\n",
    "    transforms.ConvertImageDtype(torch.float32),\n",
    "    fixed_image_standardization\n",
    "])\n",
    "\n",
    "dataset = GenerativeDataset(generator, trans, dataset_len)\n",
    "print(f'Created dataset of length {dataset_len}.')\n",
    "\n",
    "img_inds = np.arange(dataset_len)\n",
    "np.random.shuffle(img_inds)\n",
    "train_inds = img_inds[:int(0.8 * len(img_inds))]\n",
    "val_inds = img_inds[int(0.8 * len(img_inds)):]\n",
    "\n",
    "\n",
    "train_loader = DataLoader(\n",
    "    dataset,\n",
    "    num_workers=workers,\n",
    "    batch_size=batch_size,\n",
    "    sampler=SubsetRandomSampler(train_inds)\n",
    ")\n",
    "print(f'Created train loader of size {len(train_loader)} batches.')\n",
    "val_loader = DataLoader(\n",
    "    dataset,\n",
    "    num_workers=workers,\n",
    "    batch_size=batch_size,\n",
    "    sampler=SubsetRandomSampler(val_inds)\n",
    ")\n",
    "print(f'Created validation loader of size {len(val_loader)} batches.')"
   ],
   "metadata": {
    "colab": {
     "base_uri": "https://localhost:8080/"
    },
    "id": "1f8OCHYC3dzq",
    "executionInfo": {
     "status": "ok",
     "timestamp": 1643310237757,
     "user_tz": -120,
     "elapsed": 274,
     "user": {
      "displayName": "Moshe Technion",
      "photoUrl": "https://lh3.googleusercontent.com/a/default-user=s64",
      "userId": "13993720330176903710"
     }
    },
    "outputId": "293d6528-26c8-4d76-be04-4f428c5affed"
   },
   "execution_count": 12,
   "outputs": [
    {
     "output_type": "stream",
     "name": "stdout",
     "text": [
      "Creating train loader...\n",
      "Creating validation loader...\n"
     ]
    }
   ]
  },
  {
   "cell_type": "markdown",
   "metadata": {
    "id": "UaZGpQZBxq8p"
   },
   "source": [
    "Define Inception Resnet V1 model.\n",
    "\n",
    "See `help(InceptionResnetV1)` for more details."
   ]
  },
  {
   "cell_type": "code",
   "execution_count": 13,
   "metadata": {
    "id": "SIVogXKCxq8q",
    "executionInfo": {
     "status": "ok",
     "timestamp": 1643310264915,
     "user_tz": -120,
     "elapsed": 9323,
     "user": {
      "displayName": "Moshe Technion",
      "photoUrl": "https://lh3.googleusercontent.com/a/default-user=s64",
      "userId": "13993720330176903710"
     }
    }
   },
   "outputs": [],
   "source": [
    "encoder = InceptionResnetV1(pretrained='vggface2', device=device)"
   ]
  },
  {
   "cell_type": "markdown",
   "metadata": {
    "id": "Hj0-aBPbxq8q"
   },
   "source": [
    "Define optimizer, scheduler, loss function and training metrics"
   ]
  },
  {
   "cell_type": "code",
   "execution_count": 14,
   "metadata": {
    "id": "xMTy1yqWxq8r",
    "executionInfo": {
     "status": "ok",
     "timestamp": 1643310276495,
     "user_tz": -120,
     "elapsed": 264,
     "user": {
      "displayName": "Moshe Technion",
      "photoUrl": "https://lh3.googleusercontent.com/a/default-user=s64",
      "userId": "13993720330176903710"
     }
    }
   },
   "outputs": [],
   "source": [
    "optimizer = optim.Adam(encoder.parameters(), lr=0.001)\n",
    "scheduler = MultiStepLR(optimizer, [5, 10])\n",
    "\n",
    "loss_fn = torch.nn.MSELoss()\n",
    "metrics = {\n",
    "    'fps': training.BatchTimer(),\n",
    "}"
   ]
  },
  {
   "cell_type": "code",
   "execution_count": 15,
   "metadata": {
    "id": "LBGAVPHVxq8r",
    "executionInfo": {
     "status": "ok",
     "timestamp": 1643310279540,
     "user_tz": -120,
     "elapsed": 1,
     "user": {
      "displayName": "Moshe Technion",
      "photoUrl": "https://lh3.googleusercontent.com/a/default-user=s64",
      "userId": "13993720330176903710"
     }
    }
   },
   "outputs": [],
   "source": [
    "training_path = os.path.join('..', 'out', 'encoder_trainings')\n",
    "os.makedirs(training_path, exist_ok=True)"
   ]
  },
  {
   "cell_type": "markdown",
   "metadata": {
    "id": "1xL1vlnwxq8s"
   },
   "source": [
    "#### Train model"
   ]
  },
  {
   "cell_type": "code",
   "execution_count": null,
   "metadata": {
    "colab": {
     "base_uri": "https://localhost:8080/"
    },
    "id": "E2k5vKfYxq8s",
    "outputId": "9f6492e9-a80f-49d5-9f44-a298da8dc7f4"
   },
   "outputs": [
    {
     "output_type": "stream",
     "name": "stdout",
     "text": [
      "\n",
      "\n",
      "Initial\n",
      "--------------------\n",
      "Valid |    63/63   | loss:    1.0048 | fps:   28.4882   \n",
      "Elapsed time 777.1451733112335\n",
      "\n",
      "Epoch 1/8\n",
      "--------------------\n",
      "Train |   146/250  | loss:    1.0003 | fps:   12.9488   "
     ]
    }
   ],
   "source": [
    "writer = SummaryWriter()\n",
    "writer.iteration, writer.interval = 0, 10\n",
    "\n",
    "print('\\n\\nInitial')\n",
    "print('-' * 20)\n",
    "start = time.time()\n",
    "encoder.eval()\n",
    "training.pass_epoch(encoder, loss_fn, val_loader, batch_metrics=metrics, show_running=True, device=device, writer=writer)\n",
    "end = time.time()\n",
    "print('Elapsed time {}'.format(end - start))\n",
    "\n",
    "for epoch in range(epochs):\n",
    "    print('\\nEpoch {}/{}'.format(epoch + 1, epochs))\n",
    "    print('-' * 20)\n",
    "\n",
    "    start = time.time()\n",
    "    encoder.train()\n",
    "    training.pass_epoch(encoder, loss_fn, train_loader, optimizer, scheduler, batch_metrics=metrics,\n",
    "                        show_running=True, device=device, writer=writer)\n",
    "\n",
    "    encoder.eval()\n",
    "    training.pass_epoch(encoder, loss_fn, val_loader, batch_metrics=metrics, show_running=True, device=device,\n",
    "                        writer=writer)\n",
    "    end = time.time()\n",
    "    print('Elapsed time {}'.format(end - start))\n",
    "\n",
    "    encoder_name = 'incresnetv1_encoder_epoch{}.pt'.format(epoch)\n",
    "    file_name = os.path.join(training_path, encoder_name)\n",
    "    print('\\nSaving encoder model to {} ...'.format(file_name))\n",
    "    torch.save(encoder.state_dict(), file_name)\n",
    "\n",
    "writer.close()\n",
    "print('\\nFinished training.')"
   ]
  },
  {
   "cell_type": "markdown",
   "source": [
    "Enjoy your trained encoder!"
   ],
   "metadata": {
    "id": "k2rbn5J67bZl"
   }
  }
 ],
 "metadata": {
  "kernelspec": {
   "display_name": "Python 3",
   "language": "python",
   "name": "python3"
  },
  "language_info": {
   "codemirror_mode": {
    "name": "ipython",
    "version": 3
   },
   "file_extension": ".py",
   "mimetype": "text/x-python",
   "name": "python",
   "nbconvert_exporter": "python",
   "pygments_lexer": "ipython3",
   "version": "3.7.3"
  },
  "colab": {
   "name": "train_encoder.ipynb",
   "provenance": [],
   "collapsed_sections": []
  },
  "accelerator": "GPU"
 },
 "nbformat": 4,
 "nbformat_minor": 0
}