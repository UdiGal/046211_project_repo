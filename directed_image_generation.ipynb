{
 "cells": [
  {
   "cell_type": "markdown",
   "source": [
    "# Generating images of new classes based on input images\n",
    "\n",
    "Perform directed generation of images by selecting an image and class,\n",
    "and generating a new image that represents the input image in the class."
   ],
   "metadata": {
    "collapsed": false
   }
  },
  {
   "cell_type": "code",
   "execution_count": null,
   "outputs": [],
   "source": [
    "!nvidia-smi -L"
   ],
   "metadata": {
    "collapsed": false,
    "pycharm": {
     "name": "#%%\n"
    }
   }
  },
  {
   "cell_type": "markdown",
   "source": [
    "#### Mount the Drive and navigate to the project directory\n",
    "Only relevent if you are running in colab."
   ],
   "metadata": {
    "collapsed": false
   }
  },
  {
   "cell_type": "code",
   "execution_count": null,
   "outputs": [],
   "source": [
    "from google.colab import drive\n",
    "drive.mount('/content/drive')"
   ],
   "metadata": {
    "collapsed": false,
    "pycharm": {
     "name": "#%%\n"
    }
   }
  },
  {
   "cell_type": "code",
   "execution_count": null,
   "outputs": [],
   "source": [
    "cd \"/content/drive/MyDrive/MastersDegree/Semester3/046211_project/046211_project_repo\""
   ],
   "metadata": {
    "collapsed": false,
    "pycharm": {
     "name": "#%%\n"
    }
   }
  },
  {
   "cell_type": "markdown",
   "source": [
    "#### Add all the imports"
   ],
   "metadata": {
    "collapsed": false
   }
  },
  {
   "cell_type": "code",
   "execution_count": null,
   "outputs": [],
   "source": [
    "import os\n",
    "import cv2\n",
    "import torch\n",
    "from matplotlib import pyplot as plt\n",
    "\n",
    "import dnnlib\n",
    "import legacy\n",
    "from facenet_encoder.inception_resnet_v1 import InceptionResnetV1\n",
    "from facenet_encoder.utils import one_hot_vector"
   ],
   "metadata": {
    "collapsed": false,
    "pycharm": {
     "name": "#%%\n"
    }
   }
  },
  {
   "cell_type": "markdown",
   "source": [
    "Determine if an nvidia GPU is available"
   ],
   "metadata": {
    "collapsed": false
   }
  },
  {
   "cell_type": "code",
   "execution_count": null,
   "outputs": [],
   "source": [
    "device = torch.device('cuda:0' if torch.cuda.is_available() else 'cpu')\n",
    "print('Running on device: {}'.format(device))"
   ],
   "metadata": {
    "collapsed": false,
    "pycharm": {
     "name": "#%%\n"
    }
   }
  },
  {
   "cell_type": "markdown",
   "source": [
    "#### Import a Generator"
   ],
   "metadata": {
    "collapsed": false
   }
  },
  {
   "cell_type": "code",
   "execution_count": null,
   "outputs": [],
   "source": [
    "def import_generator(generator_pkl):\n",
    "    \"\"\"\n",
    "    Load a StyleGAN2-ADA generator from a pickle file.\n",
    "    Args:\n",
    "        generator_pkl:  Path to the pkl file from which to load the generator.\n",
    "\n",
    "    Returns: Instance of the  generator loaded from the pkl file.\n",
    "    \"\"\"\n",
    "    g_kwargs = dnnlib.EasyDict()\n",
    "    g_kwargs.size = None\n",
    "    g_kwargs.scale_type = 'pad'\n",
    "    with dnnlib.util.open_url(generator_pkl) as f:\n",
    "        generator = legacy.load_network_pkl(f, custom=True, **g_kwargs)['G_ema']\n",
    "    return generator"
   ],
   "metadata": {
    "collapsed": false,
    "pycharm": {
     "name": "#%%\n"
    }
   }
  },
  {
   "cell_type": "markdown",
   "source": [
    "#### Import an Encoder"
   ],
   "metadata": {
    "collapsed": false
   }
  },
  {
   "cell_type": "code",
   "execution_count": null,
   "outputs": [],
   "source": [
    "def import_encoder(encoder_pt):\n",
    "    \"\"\"\n",
    "    Load an InceptionResnetV1 encoder from a pytorch file.\n",
    "    Args:\n",
    "        encoder_pt:  Path to the pt file from which to load the encoder.\n",
    "\n",
    "    Returns: Instance of the encoder loaded from the pkl file.\n",
    "    \"\"\"\n",
    "    encoder = InceptionResnetV1()\n",
    "    state_dict = torch.load(encoder_pt)\n",
    "    encoder.load_state_dict(state_dict)\n",
    "    return encoder\n"
   ],
   "metadata": {
    "collapsed": false,
    "pycharm": {
     "name": "#%%\n"
    }
   }
  },
  {
   "cell_type": "markdown",
   "source": [
    "#### Generate iamges"
   ],
   "metadata": {
    "collapsed": false,
    "pycharm": {
     "name": "#%% md\n"
    }
   }
  },
  {
   "cell_type": "markdown",
   "source": [
    "Define the image for the generation"
   ],
   "metadata": {
    "collapsed": false,
    "pycharm": {
     "name": "#%% md\n"
    }
   }
  },
  {
   "cell_type": "code",
   "execution_count": null,
   "outputs": [],
   "source": [
    "input_path = os.path.join('..','data','0001.png')\n",
    "input_image = cv2.cvtColor(cv2.imread(input_path), cv2.COLOR_BGR2RGB).to(device)"
   ],
   "metadata": {
    "collapsed": false,
    "pycharm": {
     "name": "#%%\n"
    }
   }
  },
  {
   "cell_type": "markdown",
   "source": [
    "Import the generator from a pkl file."
   ],
   "metadata": {
    "collapsed": false,
    "pycharm": {
     "name": "#%% md\n"
    }
   }
  },
  {
   "cell_type": "code",
   "execution_count": null,
   "outputs": [],
   "source": [
    "generator_pkl = os.path.join('..', 'pretrained', 'generator.pkl')\n",
    "generator = import_generator(generator_pkl).to(device)\n",
    "print('Loaded generator model from {}.'.format(generator_pkl))"
   ],
   "metadata": {
    "collapsed": false,
    "pycharm": {
     "name": "#%%\n"
    }
   }
  },
  {
   "cell_type": "markdown",
   "source": [
    "Import the encoder from a pt file."
   ],
   "metadata": {
    "collapsed": false,
    "pycharm": {
     "name": "#%% md\n"
    }
   }
  },
  {
   "cell_type": "code",
   "execution_count": null,
   "outputs": [],
   "source": [
    "encoder_pt = os.path.join('..', 'pretrained', 'encoder.pt')\n",
    "encoder = import_encoder(encoder_pt).to(device)\n",
    "print('Loaded generator model from {}.'.format(generator_pkl))"
   ],
   "metadata": {
    "collapsed": false,
    "pycharm": {
     "name": "#%%\n"
    }
   }
  },
  {
   "cell_type": "markdown",
   "source": [
    "Load an input image and the new class"
   ],
   "metadata": {
    "collapsed": false,
    "pycharm": {
     "name": "#%% md\n"
    }
   }
  },
  {
   "cell_type": "code",
   "execution_count": null,
   "outputs": [],
   "source": [
    "# list for saving the generated image of every class\n",
    "new_images = []\n",
    "\n",
    "# pass the input image to the encoder to get the latent vector (embedding)\n",
    "latent_img = encoder(input_image).to(device)\n",
    "for new_class in range(generator.c_dim):\n",
    "    # pass the latent vector and the new class to the generator to get the new image\n",
    "    new_image = generator(latent_img, one_hot_vector(generator.c_dim, new_class, device))\n",
    "    new_images.append(new_image)\n",
    "\n",
    "classes_image = new_images.concatenate(axis=1)"
   ],
   "metadata": {
    "collapsed": false,
    "pycharm": {
     "name": "#%%\n"
    }
   }
  },
  {
   "cell_type": "markdown",
   "source": [
    "Display and save the new generated images"
   ],
   "metadata": {
    "collapsed": false,
    "pycharm": {
     "name": "#%% md\n"
    }
   }
  },
  {
   "cell_type": "code",
   "execution_count": null,
   "outputs": [],
   "source": [
    "plt.imshow(classes_image)\n",
    "plt.axis('off')\n",
    "\n",
    "output_path = os.path.join('..', 'out', 'generated_images.jpg')\n",
    "cv2.imwrite(output_path, cv2.cvtColor(classes_image, cv2.COLOR_RGB2BGR))"
   ],
   "metadata": {
    "collapsed": false,
    "pycharm": {
     "name": "#%%\n"
    }
   }
  },
  {
   "cell_type": "markdown",
   "source": [
    "Enjoy your generated images!"
   ],
   "metadata": {
    "collapsed": false
   }
  }
 ],
 "metadata": {
  "kernelspec": {
   "display_name": "Python 3",
   "language": "python",
   "name": "python3"
  },
  "language_info": {
   "codemirror_mode": {
    "name": "ipython",
    "version": 2
   },
   "file_extension": ".py",
   "mimetype": "text/x-python",
   "name": "python",
   "nbconvert_exporter": "python",
   "pygments_lexer": "ipython2",
   "version": "2.7.6"
  }
 },
 "nbformat": 4,
 "nbformat_minor": 0
}